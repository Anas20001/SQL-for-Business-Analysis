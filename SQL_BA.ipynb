{
 "cells": [
  {
   "cell_type": "markdown",
   "metadata": {},
   "source": [
    "## SQL For Business Analysis \n",
    "\n",
    "### What is the purpose of this notebook 🤔  \n",
    "<font size='3'>🟢 This notebook is all about SQL at first we will introduce and recover some basics then will solve interview questions. </font>"
   ]
  },
  {
   "cell_type": "markdown",
   "metadata": {},
   "source": [
    "<img src=\"https://media.giphy.com/media/vISmwpBJUNYzukTnVx/giphy.gif\" width=\"650\" align=\"center\">"
   ]
  },
  {
   "cell_type": "markdown",
   "metadata": {},
   "source": [
    "## 📚 Libraries"
   ]
  },
  {
   "cell_type": "code",
   "execution_count": 1,
   "metadata": {},
   "outputs": [
    {
     "data": {
      "image/png": "[encoded data removed]",
      "text/plain": [
       "<Figure size 360x72 with 1 Axes>"
      ]
     },
     "metadata": {
      "needs_background": "light"
     },
     "output_type": "display_data"
    }
   ],
   "source": [
    "import numpy as np \n",
    "import pandas as pd\n",
    "\n",
    "import matplotlib as mpl\n",
    "import matplotlib.pyplot as plt \n",
    "import seaborn as sns\n",
    "\n",
    "\n",
    "my_colors = [\"#ce8f5a\", \"#efd199\", \"#80c8bc\", \"#5ec0ca\", \"#6287a2\"]\n",
    "sns.palplot(sns.color_palette(my_colors))\n",
    "\n",
    "# Set Style\n",
    "\n",
    "sns.set_style(\"white\")\n",
    "mpl.rcParams['xtick.labelsize'] = 16\n",
    "mpl.rcParams['ytick.labelsize'] = 16\n",
    "mpl.rcParams['axes.spines.left'] = False\n",
    "mpl.rcParams['axes.spines.right'] = False\n",
    "mpl.rcParams['axes.spines.top'] = False\n",
    "\n",
    "class color:\n",
    "    BOLD = '\\033[1m' + '\\033[93m'\n",
    "    END = '\\033[0m'"
   ]
  },
  {
   "cell_type": "markdown",
   "metadata": {},
   "source": [
    "### Writing SQL in Jupyter notebook 🤨  \n",
    "#### One way to do this is by using <b>pandasql</b>\n",
    " which you can preview its documentation from the link below \n",
    " https://pypi.org/project/pandasql/"
   ]
  },
  {
   "cell_type": "code",
   "execution_count": 2,
   "metadata": {},
   "outputs": [],
   "source": [
    "from pandasql import sqldf "
   ]
  },
  {
   "cell_type": "markdown",
   "metadata": {},
   "source": [
    "The main function used in pandasql is sqldf. sqldf accepts 2 parametrs\n",
    "\n",
    "a sql query string\n",
    "\n",
    "a set of session/environment variables (locals() or globals())\n",
    "\n",
    "Specifying locals() or globals() can get tedious. You can define a short helper function to fix this."
   ]
  },
  {
   "cell_type": "code",
   "execution_count": 3,
   "metadata": {},
   "outputs": [],
   "source": [
    "sql =lambda x : sqldf(x, globals())\n",
    "# this function will allow us to run sql more smoothly in our notebook"
   ]
  },
  {
   "cell_type": "code",
   "execution_count": 4,
   "metadata": {},
   "outputs": [
    {
     "name": "stdout",
     "output_type": "stream",
     "text": [
      " Volume in drive F is TOSHIBA HDD\n",
      " Volume Serial Number is F40B-EF44\n",
      "\n",
      " Directory of f:\\ANAS\\My Work\\SQL for Business Analysis\\DataSets\n",
      "\n",
      "02/26/2022  10:42 PM    <DIR>          .\n",
      "02/26/2022  10:42 PM    <DIR>          ..\n",
      "02/26/2022  10:40 PM           626,633 erdiagram.png\n",
      "02/26/2022  10:39 PM         8,183,471 ev311.csv\n",
      "02/26/2022  10:39 PM            81,501 fortune.csv\n",
      "02/26/2022  10:39 PM         2,374,180 stackexchange.csv\n",
      "               4 File(s)     11,265,785 bytes\n",
      "               2 Dir(s)  686,273,150,976 bytes free\n"
     ]
    }
   ],
   "source": [
    "\n",
    "ls DataSets \n"
   ]
  },
  {
   "cell_type": "markdown",
   "metadata": {},
   "source": [
    "### Our database consists of the following tables and their foreign keys are shown below on the Entity Relationship diagram (E:R diagram)\n",
    "\n",
    "<b>Foregin keys:</b> are the formal way that database tables are linked together.\n",
    "\n",
    "* Reference another row in a different table or the same table via a <b>unique</b> ID. \n",
    "  The \"Unique ID\" often comes from a primary key column in the referenced table.\n",
    "\n",
    "<b>Primary keys:</b> are specially designed columns where each row has a unique non-null value.\n",
    "\n",
    "#### Note: the lack of a foregin key relationship just means that the values in the \"ticker\" columns are not restricted to the set of values in the other table. \n"
   ]
  },
  {
   "cell_type": "markdown",
   "metadata": {},
   "source": [
    "<img src=\"DataSets\\erdiagram.png\" width=\"650\" align=\"center\">"
   ]
  },
  {
   "cell_type": "markdown",
   "metadata": {},
   "source": [
    "### About E:D diagram \n",
    "\n",
    "Entity-relationship diagram that shows the tables, their columns, and the relationships between the tables.\n"
   ]
  },
  {
   "cell_type": "code",
   "execution_count": 5,
   "metadata": {},
   "outputs": [
    {
     "name": "stdout",
     "output_type": "stream",
     "text": [
      "f:\\ANAS\\My Work\\SQL for Business Analysis\\DataSets\n"
     ]
    }
   ],
   "source": [
    "cd DataSets"
   ]
  },
  {
   "cell_type": "code",
   "execution_count": 6,
   "metadata": {},
   "outputs": [
    {
     "name": "stdout",
     "output_type": "stream",
     "text": [
      " Volume in drive F is TOSHIBA HDD\n",
      " Volume Serial Number is F40B-EF44\n",
      "\n",
      " Directory of f:\\ANAS\\My Work\\SQL for Business Analysis\\DataSets\n",
      "\n",
      "02/26/2022  10:42 PM    <DIR>          .\n",
      "02/26/2022  10:42 PM    <DIR>          ..\n",
      "02/26/2022  10:40 PM           626,633 erdiagram.png\n",
      "02/26/2022  10:39 PM         8,183,471 ev311.csv\n",
      "02/26/2022  10:39 PM            81,501 fortune.csv\n",
      "02/26/2022  10:39 PM         2,374,180 stackexchange.csv\n",
      "               4 File(s)     11,265,785 bytes\n",
      "               2 Dir(s)  686,273,150,976 bytes free\n"
     ]
    }
   ],
   "source": [
    "ls"
   ]
  },
  {
   "cell_type": "code",
   "execution_count": 7,
   "metadata": {},
   "outputs": [],
   "source": [
    "ev311 = pd.read_csv(\"ev311.csv\")\n",
    "fortune = pd.read_csv(\"fortune.csv\")\n",
    "stack_exchange = pd.read_csv(\"stackexchange.csv\")"
   ]
  },
  {
   "cell_type": "code",
   "execution_count": 8,
   "metadata": {},
   "outputs": [],
   "source": [
    "ev311 = sql(\"SELECT * FROM ev311 LIMIT 5\")\n",
    "\n",
    "fortune = sql(\"SELECT * FROM fortune LIMIT 5\")\n",
    "\n",
    "stack_exchange = sql(\"SELECT * FROM stack_exchange LIMIT 5\")\n"
   ]
  },
  {
   "cell_type": "code",
   "execution_count": 9,
   "metadata": {},
   "outputs": [
    {
     "data": {
      "text/html": [
       "<div>\n",
       "<style scoped>\n",
       "    .dataframe tbody tr th:only-of-type {\n",
       "        vertical-align: middle;\n",
       "    }\n",
       "\n",
       "    .dataframe tbody tr th {\n",
       "        vertical-align: top;\n",
       "    }\n",
       "\n",
       "    .dataframe thead th {\n",
       "        text-align: right;\n",
       "    }\n",
       "</style>\n",
       "<table border=\"1\" class=\"dataframe\">\n",
       "  <thead>\n",
       "    <tr style=\"text-align: right;\">\n",
       "      <th></th>\n",
       "      <th>id</th>\n",
       "      <th>priority</th>\n",
       "      <th>source</th>\n",
       "      <th>category</th>\n",
       "      <th>date_created</th>\n",
       "      <th>date_completed</th>\n",
       "      <th>street</th>\n",
       "      <th>house_num</th>\n",
       "      <th>zip</th>\n",
       "      <th>description</th>\n",
       "    </tr>\n",
       "  </thead>\n",
       "  <tbody>\n",
       "    <tr>\n",
       "      <th>0</th>\n",
       "      <td>1340563</td>\n",
       "      <td>NONE</td>\n",
       "      <td>gov.publicstuff.com</td>\n",
       "      <td>Fire Prevention - Inspection of a Commercial P...</td>\n",
       "      <td>2016-01-13T15:03:18Z</td>\n",
       "      <td>2016-01-19T16:51:26Z</td>\n",
       "      <td>Sheridan Road</td>\n",
       "      <td>606-612</td>\n",
       "      <td>60202.0</td>\n",
       "      <td>Please contact Debbie at Ext. 222</td>\n",
       "    </tr>\n",
       "    <tr>\n",
       "      <th>1</th>\n",
       "      <td>1826017</td>\n",
       "      <td>MEDIUM</td>\n",
       "      <td>Iframe</td>\n",
       "      <td>Water Service - Question or Concern</td>\n",
       "      <td>2016-08-12T14:35:12Z</td>\n",
       "      <td>2016-08-27T07:00:27Z</td>\n",
       "      <td>Washington St</td>\n",
       "      <td>930</td>\n",
       "      <td>NaN</td>\n",
       "      <td>Last spring we called you to report that our s...</td>\n",
       "    </tr>\n",
       "    <tr>\n",
       "      <th>2</th>\n",
       "      <td>1849204</td>\n",
       "      <td>MEDIUM</td>\n",
       "      <td>Iframe</td>\n",
       "      <td>Trees-Fallen limb or tree</td>\n",
       "      <td>2016-08-22T09:07:45Z</td>\n",
       "      <td>2016-08-24T07:05:32Z</td>\n",
       "      <td>Lincoln St</td>\n",
       "      <td>1183-1223</td>\n",
       "      <td>NaN</td>\n",
       "      <td>This isn't about a fallen tree or tree limb bu...</td>\n",
       "    </tr>\n",
       "    <tr>\n",
       "      <th>3</th>\n",
       "      <td>1880254</td>\n",
       "      <td>MEDIUM</td>\n",
       "      <td>iOS</td>\n",
       "      <td>Ask A Question / Send A Message</td>\n",
       "      <td>2016-09-01T09:03:54Z</td>\n",
       "      <td>2016-09-01T16:52:40Z</td>\n",
       "      <td>Callan Ave</td>\n",
       "      <td>1–111</td>\n",
       "      <td>60202.0</td>\n",
       "      <td>Actually on back side of 621 Howard, growth in...</td>\n",
       "    </tr>\n",
       "    <tr>\n",
       "      <th>4</th>\n",
       "      <td>1972582</td>\n",
       "      <td>MEDIUM</td>\n",
       "      <td>Iframe</td>\n",
       "      <td>Dead Animal on Public Property</td>\n",
       "      <td>2016-09-19T01:46:41Z</td>\n",
       "      <td>2016-09-27T11:28:50Z</td>\n",
       "      <td>Crain St</td>\n",
       "      <td>1524</td>\n",
       "      <td>NaN</td>\n",
       "      <td>This is not public property but I need help.  ...</td>\n",
       "    </tr>\n",
       "  </tbody>\n",
       "</table>\n",
       "</div>"
      ],
      "text/plain": [
       "        id priority               source  \\\n",
       "0  1340563     NONE  gov.publicstuff.com   \n",
       "1  1826017   MEDIUM               Iframe   \n",
       "2  1849204   MEDIUM               Iframe   \n",
       "3  1880254   MEDIUM                  iOS   \n",
       "4  1972582   MEDIUM               Iframe   \n",
       "\n",
       "                                            category          date_created  \\\n",
       "0  Fire Prevention - Inspection of a Commercial P...  2016-01-13T15:03:18Z   \n",
       "1                Water Service - Question or Concern  2016-08-12T14:35:12Z   \n",
       "2                          Trees-Fallen limb or tree  2016-08-22T09:07:45Z   \n",
       "3                    Ask A Question / Send A Message  2016-09-01T09:03:54Z   \n",
       "4                     Dead Animal on Public Property  2016-09-19T01:46:41Z   \n",
       "\n",
       "         date_completed         street  house_num      zip  \\\n",
       "0  2016-01-19T16:51:26Z  Sheridan Road    606-612  60202.0   \n",
       "1  2016-08-27T07:00:27Z  Washington St        930      NaN   \n",
       "2  2016-08-24T07:05:32Z     Lincoln St  1183-1223      NaN   \n",
       "3  2016-09-01T16:52:40Z     Callan Ave      1–111  60202.0   \n",
       "4  2016-09-27T11:28:50Z       Crain St       1524      NaN   \n",
       "\n",
       "                                         description  \n",
       "0                  Please contact Debbie at Ext. 222  \n",
       "1  Last spring we called you to report that our s...  \n",
       "2  This isn't about a fallen tree or tree limb bu...  \n",
       "3  Actually on back side of 621 Howard, growth in...  \n",
       "4  This is not public property but I need help.  ...  "
      ]
     },
     "execution_count": 9,
     "metadata": {},
     "output_type": "execute_result"
    }
   ],
   "source": [
    "ev311"
   ]
  },
  {
   "cell_type": "code",
   "execution_count": null,
   "metadata": {},
   "outputs": [],
   "source": []
  }
 ],
 "metadata": {
  "interpreter": {
   "hash": "9a65abc7b3a42d2d68670cd925a21da9a3b00c4d19319320e58e3b376454b47d"
  },
  "kernelspec": {
   "display_name": "Python 3.9.7 64-bit",
   "language": "python",
   "name": "python3"
  },
  "language_info": {
   "codemirror_mode": {
    "name": "ipython",
    "version": 3
   },
   "file_extension": ".py",
   "mimetype": "text/x-python",
   "name": "python",
   "nbconvert_exporter": "python",
   "pygments_lexer": "ipython3",
   "version": "3.9.7"
  },
  "orig_nbformat": 4
 },
 "nbformat": 4,
 "nbformat_minor": 2
}
